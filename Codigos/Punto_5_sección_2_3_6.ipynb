{
  "nbformat": 4,
  "nbformat_minor": 0,
  "metadata": {
    "colab": {
      "provenance": []
    },
    "kernelspec": {
      "name": "python3",
      "display_name": "Python 3"
    },
    "language_info": {
      "name": "python"
    }
  },
  "cells": [
    {
      "cell_type": "code",
      "execution_count": 5,
      "metadata": {
        "colab": {
          "base_uri": "https://localhost:8080/"
        },
        "id": "19Wu0Bwls4ib",
        "outputId": "e8d665fc-c6c8-4957-b682-070704875b79"
      },
      "outputs": [
        {
          "output_type": "stream",
          "name": "stdout",
          "text": [
            "Coeficientes encontrados:\n",
            "alpha = a/2 + b/2\n",
            "beta = c\n",
            "gamma = -d\n",
            "delta = a/2 - b/2\n",
            "\n",
            "¿A == combinación con esos coeficientes? -> True\n",
            "Productos internos <σi, σj> con i ≠ j:\n",
            "\n",
            "<sigma0, sigma1> = 0\n",
            "<sigma0, sigma2> = 0\n",
            "<sigma0, sigma3> = 0\n",
            "<sigma1, sigma0> = 0\n",
            "<sigma1, sigma2> = 0\n",
            "<sigma1, sigma3> = 0\n",
            "<sigma2, sigma0> = 0\n",
            "<sigma2, sigma1> = 0\n",
            "<sigma2, sigma3> = 0\n",
            "<sigma3, sigma0> = 0\n",
            "<sigma3, sigma1> = 0\n",
            "<sigma3, sigma2> = 0\n",
            "Esa base es ortogonal\n"
          ]
        }
      ],
      "source": [
        "import sympy as sp\n",
        "\n",
        "#matrices de Pauli y la identidad\n",
        "sigma0 = sp.Matrix([[1, 0],\n",
        "                    [0, 1]])\n",
        "\n",
        "sigma1 = sp.Matrix([[0, 1],\n",
        "                    [1, 0]])\n",
        "\n",
        "sigma2 = sp.Matrix([[0, -sp.I],\n",
        "                    [sp.I, 0]])\n",
        "\n",
        "sigma3 = sp.Matrix([[1, 0],\n",
        "                    [0, -1]])\n",
        "\n",
        "# Lista de matrices\n",
        "pauli = [sigma0, sigma1, sigma2, sigma3]\n",
        "\n",
        "\n",
        "\n",
        "#A)\n",
        "#parámetros reales de A\n",
        "a, b, c, d = sp.symbols('a b c d', real=True)\n",
        "\n",
        "# Matriz\n",
        "A = sp.Matrix([[a, c + sp.I*d],\n",
        "               [c - sp.I*d, b]])\n",
        "\n",
        "# Coeficientes\n",
        "alpha, beta, gamma, delta = sp.symbols('alpha beta gamma delta', real=True)\n",
        "\n",
        "# Combinación lineal\n",
        "comb = alpha*sigma0 + beta*sigma1 + gamma*sigma2 + delta*sigma3\n",
        "\n",
        "# sistema de ecuaciones\n",
        "eqs = []\n",
        "for i in range(2):\n",
        "    for j in range(2):\n",
        "        eqs.append(sp.Eq(A[i, j], comb[i, j]))\n",
        "\n",
        "# Resolver el sistema\n",
        "sol = sp.solve(eqs, (alpha, beta, gamma, delta), dict=True)\n",
        "sol = sol[0]  # dict con las soluciones\n",
        "\n",
        "# soluciones\n",
        "print(\"Coeficientes encontrados:\")\n",
        "for symb in (alpha, beta, gamma, delta):\n",
        "    print(f\"{symb} =\", sp.simplify(sol[symb]))\n",
        "\n",
        "comb_sub = comb.subs(sol)\n",
        "print(\"\\n¿A == combinación con esos coeficientes? ->\", sp.simplify(A - comb_sub) == sp.zeros(2))\n",
        "\n",
        "\n",
        "#B)\n",
        "# Definimos producto interno\n",
        "def inner_product(A, B):\n",
        "    return sp.trace(A.H * B)\n",
        "\n",
        "print(\"Productos internos <σi, σj> con i ≠ j:\\n\")\n",
        "for i in range(4):\n",
        "    for j in range(4):\n",
        "        if i != j:\n",
        "            val = inner_product(pauli[i], pauli[j])\n",
        "            print(f\"<sigma{i}, sigma{j}> = {val}\")\n",
        "print(\"Esa base es ortogonal\")"
      ]
    }
  ]
}