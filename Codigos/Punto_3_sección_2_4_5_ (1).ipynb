{
  "nbformat": 4,
  "nbformat_minor": 0,
  "metadata": {
    "colab": {
      "provenance": []
    },
    "kernelspec": {
      "name": "python3",
      "display_name": "Python 3"
    },
    "language_info": {
      "name": "python"
    }
  },
  "cells": [
    {
      "cell_type": "code",
      "execution_count": null,
      "metadata": {
        "id": "1XRIZcYy87Gw"
      },
      "outputs": [],
      "source": [
        "import sympy\n",
        "from sympy import *\n",
        "\n",
        "\n",
        "#definir las variables y limites de integracion\n",
        "\n",
        "t = symbols('t')\n",
        "a, b = -1, 1\n",
        "base = [Matrix([1]), Matrix([t]), Matrix([t**2]), Matrix([t**3]), Matrix([t**4]), Matrix([t**5]), Matrix([t**6]), Matrix([t**7]), Matrix([t**8]), Matrix([t**9])]\n",
        "\n",
        "\n"
      ]
    },
    {
      "cell_type": "code",
      "source": [
        "#Punto a\n",
        "\n",
        "#Definir el producto interno\n",
        "\n",
        "def producto (f, g):\n",
        "  return integrate (f[0]*g[0], (t, a, b) )\n",
        "\n",
        "e1 = base[0]\n",
        "e2 = base[1]\n",
        "e3 = base[2]\n",
        "e4 = base[3]\n",
        "e5 = base[4]\n",
        "e6 = base[5]\n",
        "e7 = base[6]\n",
        "e8 = base[7]\n",
        "e9 = base[8]\n",
        "e10 = base[9]\n",
        "\n",
        "vectores = [e1, e2, e3, e4, e5, e6, e7, e8, e9, e10]\n",
        "\n",
        "ortogonales = True\n",
        "for i, vi in enumerate(vectores):\n",
        "  for j, vj in enumerate(vectores):\n",
        "    if j > i:\n",
        "      resultado = producto (vi, vj)\n",
        "      print(f\"producto interno de e{i+1} y e{j+1}: {resultado}\")\n",
        "      if resultado != 0:\n",
        "        ortogonales = False\n",
        "if ortogonales:\n",
        "  print(\"Esta base de vectores es ortogonal\")\n",
        "else:\n",
        "  print(\"Esta base de vectores no es ortogonal\")"
      ],
      "metadata": {
        "colab": {
          "base_uri": "https://localhost:8080/"
        },
        "id": "_kcR_L9HFt1c",
        "outputId": "eca57c61-4d1d-4a97-c685-71deeb25090c"
      },
      "execution_count": null,
      "outputs": [
        {
          "output_type": "stream",
          "name": "stdout",
          "text": [
            "producto interno de e1 y e2: 0\n",
            "producto interno de e1 y e3: 2/3\n",
            "producto interno de e1 y e4: 0\n",
            "producto interno de e1 y e5: 2/5\n",
            "producto interno de e1 y e6: 0\n",
            "producto interno de e1 y e7: 2/7\n",
            "producto interno de e1 y e8: 0\n",
            "producto interno de e1 y e9: 2/9\n",
            "producto interno de e1 y e10: 0\n",
            "producto interno de e2 y e3: 0\n",
            "producto interno de e2 y e4: 2/5\n",
            "producto interno de e2 y e5: 0\n",
            "producto interno de e2 y e6: 2/7\n",
            "producto interno de e2 y e7: 0\n",
            "producto interno de e2 y e8: 2/9\n",
            "producto interno de e2 y e9: 0\n",
            "producto interno de e2 y e10: 2/11\n",
            "producto interno de e3 y e4: 0\n",
            "producto interno de e3 y e5: 2/7\n",
            "producto interno de e3 y e6: 0\n",
            "producto interno de e3 y e7: 2/9\n",
            "producto interno de e3 y e8: 0\n",
            "producto interno de e3 y e9: 2/11\n",
            "producto interno de e3 y e10: 0\n",
            "producto interno de e4 y e5: 0\n",
            "producto interno de e4 y e6: 2/9\n",
            "producto interno de e4 y e7: 0\n",
            "producto interno de e4 y e8: 2/11\n",
            "producto interno de e4 y e9: 0\n",
            "producto interno de e4 y e10: 2/13\n",
            "producto interno de e5 y e6: 0\n",
            "producto interno de e5 y e7: 2/11\n",
            "producto interno de e5 y e8: 0\n",
            "producto interno de e5 y e9: 2/13\n",
            "producto interno de e5 y e10: 0\n",
            "producto interno de e6 y e7: 0\n",
            "producto interno de e6 y e8: 2/13\n",
            "producto interno de e6 y e9: 0\n",
            "producto interno de e6 y e10: 2/15\n",
            "producto interno de e7 y e8: 0\n",
            "producto interno de e7 y e9: 2/15\n",
            "producto interno de e7 y e10: 0\n",
            "producto interno de e8 y e9: 0\n",
            "producto interno de e8 y e10: 2/17\n",
            "producto interno de e9 y e10: 0\n",
            "Esta base de vectores no es ortogonal\n"
          ]
        }
      ]
    },
    {
      "cell_type": "code",
      "source": [
        "#Punto b\n",
        "ortogonalizados = []\n",
        "for v in base:\n",
        "  u = v\n",
        "  for o in ortogonalizados:\n",
        "    u-= (producto(v, o)/producto(o,o))*o\n",
        "  ortogonalizados.append(u)\n",
        "FiniteSet(*ortogonalizados)\n",
        "\n"
      ],
      "metadata": {
        "id": "2lWGzI1BB3kK",
        "outputId": "0c97dac5-7892-4a55-913b-355d4cdc4eab",
        "colab": {
          "base_uri": "https://localhost:8080/",
          "height": 47
        }
      },
      "execution_count": null,
      "outputs": [
        {
          "output_type": "execute_result",
          "data": {
            "text/plain": [
              "{Matrix([[1]]), Matrix([[t]]), Matrix([[t**2 - 1/3]]), Matrix([[t**3 - 3*t/5]]), Matrix([[t**4 - 6*t**2/7 + 3/35]]), Matrix([[t**5 - 10*t**3/9 + 5*t/21]]), Matrix([[t**6 - 15*t**4/11 + 5*t**2/11 - 5/231]]), Matrix([[t**7 - 21*t**5/13 + 105*t**3/143 - 35*t/429]]), Matrix([[t**8 - 28*t**6/15 + 14*t**4/13 - 28*t**2/143 + 7/1287]]), Matrix([[t**9 - 36*t**7/17 + 126*t**5/85 - 84*t**3/221 + 63*t/2431]])}"
            ],
            "text/latex": "$\\displaystyle \\left\\{\\left[\\begin{matrix}1\\end{matrix}\\right], \\left[\\begin{matrix}t\\end{matrix}\\right], \\left[\\begin{matrix}t^{2} - \\frac{1}{3}\\end{matrix}\\right], \\left[\\begin{matrix}t^{3} - \\frac{3 t}{5}\\end{matrix}\\right], \\left[\\begin{matrix}t^{4} - \\frac{6 t^{2}}{7} + \\frac{3}{35}\\end{matrix}\\right], \\left[\\begin{matrix}t^{5} - \\frac{10 t^{3}}{9} + \\frac{5 t}{21}\\end{matrix}\\right], \\left[\\begin{matrix}t^{6} - \\frac{15 t^{4}}{11} + \\frac{5 t^{2}}{11} - \\frac{5}{231}\\end{matrix}\\right], \\left[\\begin{matrix}t^{7} - \\frac{21 t^{5}}{13} + \\frac{105 t^{3}}{143} - \\frac{35 t}{429}\\end{matrix}\\right], \\left[\\begin{matrix}t^{8} - \\frac{28 t^{6}}{15} + \\frac{14 t^{4}}{13} - \\frac{28 t^{2}}{143} + \\frac{7}{1287}\\end{matrix}\\right], \\left[\\begin{matrix}t^{9} - \\frac{36 t^{7}}{17} + \\frac{126 t^{5}}{85} - \\frac{84 t^{3}}{221} + \\frac{63 t}{2431}\\end{matrix}\\right]\\right\\}$"
          },
          "metadata": {},
          "execution_count": 32
        }
      ]
    },
    {
      "cell_type": "code",
      "source": [
        "e1_ortogonal = ortogonalizados[0]\n",
        "e2_ortogonal = ortogonalizados[1]\n",
        "e3_ortogonal = ortogonalizados[2]\n",
        "e4_ortogonal = ortogonalizados[3]\n",
        "e5_ortogonal = ortogonalizados[4]\n",
        "e6_ortogonal = ortogonalizados[5]\n",
        "e7_ortogonal = ortogonalizados[6]\n",
        "e8_ortogonal = ortogonalizados[7]\n",
        "e9_ortogonal = ortogonalizados[8]\n",
        "e10_ortogonal = ortogonalizados[9]\n",
        "\n",
        "vectores_ortogonalizados = [e1_ortogonal, e2_ortogonal, e3_ortogonal, e4_ortogonal, e5_ortogonal, e6_ortogonal, e7_ortogonal, e8_ortogonal, e9_ortogonal, e10_ortogonal]\n",
        "\n",
        "ortogonales = True\n",
        "for i, vi in enumerate(vectores_ortogonalizados):\n",
        "  for j, vj in enumerate(vectores_ortogonalizados):\n",
        "    if j > i:\n",
        "      resultado = producto (vi, vj)\n",
        "      print(f\"producto interno de e{i+1} y e{j+1}: {resultado}\")\n",
        "      if resultado != 0:\n",
        "        ortogonales = False\n",
        "if ortogonales:\n",
        "  print(\"Esta base de vectores es ortogonal\")\n",
        "else:\n",
        "  print(\"Esta base de vectores no es ortogonal\")\n"
      ],
      "metadata": {
        "colab": {
          "base_uri": "https://localhost:8080/"
        },
        "id": "vld7jFI5EEj1",
        "outputId": "5388abaa-442c-49f7-b895-7ffe9bac5033"
      },
      "execution_count": null,
      "outputs": [
        {
          "output_type": "stream",
          "name": "stdout",
          "text": [
            "producto interno de e1 y e2: 0\n",
            "producto interno de e1 y e3: 0\n",
            "producto interno de e1 y e4: 0\n",
            "producto interno de e1 y e5: 0\n",
            "producto interno de e1 y e6: 0\n",
            "producto interno de e1 y e7: 0\n",
            "producto interno de e1 y e8: 0\n",
            "producto interno de e1 y e9: 0\n",
            "producto interno de e1 y e10: 0\n",
            "producto interno de e2 y e3: 0\n",
            "producto interno de e2 y e4: 0\n",
            "producto interno de e2 y e5: 0\n",
            "producto interno de e2 y e6: 0\n",
            "producto interno de e2 y e7: 0\n",
            "producto interno de e2 y e8: 0\n",
            "producto interno de e2 y e9: 0\n",
            "producto interno de e2 y e10: 0\n",
            "producto interno de e3 y e4: 0\n",
            "producto interno de e3 y e5: 0\n",
            "producto interno de e3 y e6: 0\n",
            "producto interno de e3 y e7: 0\n",
            "producto interno de e3 y e8: 0\n",
            "producto interno de e3 y e9: 0\n",
            "producto interno de e3 y e10: 0\n",
            "producto interno de e4 y e5: 0\n",
            "producto interno de e4 y e6: 0\n",
            "producto interno de e4 y e7: 0\n",
            "producto interno de e4 y e8: 0\n",
            "producto interno de e4 y e9: 0\n",
            "producto interno de e4 y e10: 0\n",
            "producto interno de e5 y e6: 0\n",
            "producto interno de e5 y e7: 0\n",
            "producto interno de e5 y e8: 0\n",
            "producto interno de e5 y e9: 0\n",
            "producto interno de e5 y e10: 0\n",
            "producto interno de e6 y e7: 0\n",
            "producto interno de e6 y e8: 0\n",
            "producto interno de e6 y e9: 0\n",
            "producto interno de e6 y e10: 0\n",
            "producto interno de e7 y e8: 0\n",
            "producto interno de e7 y e9: 0\n",
            "producto interno de e7 y e10: 0\n",
            "producto interno de e8 y e9: 0\n",
            "producto interno de e8 y e10: 0\n",
            "producto interno de e9 y e10: 0\n",
            "Esta base de vectores es ortogonal\n"
          ]
        }
      ]
    },
    {
      "cell_type": "code",
      "source": [
        "#Punto C\n",
        "\n",
        "#Nuevo producto interno\n",
        "\n",
        "def producto_2 (f, g)\n",
        "  return integrate (f[0]*g[0]*sqrt(1-(t**2)), (t, a, b))\n",
        "\n",
        "#Ortogonalizar con nuevo producto interno\n",
        "\n",
        "ortogonalizados_2 = []\n",
        "for v in base:\n",
        "  u = v\n",
        "  for o in ortogonalizados_2:\n",
        "    u-= (producto_2(v, o)/producto_2(o,o))*o\n",
        "  ortogonalizados_2.append(u)\n",
        "\n",
        "\n",
        "FiniteSet(*ortogonalizados_2)\n",
        "\n"
      ],
      "metadata": {
        "colab": {
          "base_uri": "https://localhost:8080/",
          "height": 47
        },
        "id": "XmK9nybrEiw2",
        "outputId": "4bb26665-930a-4c93-f054-1fffb4ea3506"
      },
      "execution_count": null,
      "outputs": [
        {
          "output_type": "execute_result",
          "data": {
            "text/plain": [
              "{Matrix([[1]]), Matrix([[t]]), Matrix([[t**2 - 1/4]]), Matrix([[t**3 - t/2]]), Matrix([[t**4 - 3*t**2/4 + 1/16]]), Matrix([[t**5 - t**3 + 3*t/16]]), Matrix([[t**6 - 5*t**4/4 + 3*t**2/8 - 1/64]]), Matrix([[t**7 - 3*t**5/2 + 5*t**3/8 - t/16]]), Matrix([[t**8 - 7*t**6/4 + 15*t**4/16 - 5*t**2/32 + 1/256]]), Matrix([[t**9 - 2*t**7 + 21*t**5/16 - 5*t**3/16 + 5*t/256]])}"
            ],
            "text/latex": "$\\displaystyle \\left\\{\\left[\\begin{matrix}1\\end{matrix}\\right], \\left[\\begin{matrix}t\\end{matrix}\\right], \\left[\\begin{matrix}t^{2} - \\frac{1}{4}\\end{matrix}\\right], \\left[\\begin{matrix}t^{3} - \\frac{t}{2}\\end{matrix}\\right], \\left[\\begin{matrix}t^{4} - \\frac{3 t^{2}}{4} + \\frac{1}{16}\\end{matrix}\\right], \\left[\\begin{matrix}t^{5} - t^{3} + \\frac{3 t}{16}\\end{matrix}\\right], \\left[\\begin{matrix}t^{6} - \\frac{5 t^{4}}{4} + \\frac{3 t^{2}}{8} - \\frac{1}{64}\\end{matrix}\\right], \\left[\\begin{matrix}t^{7} - \\frac{3 t^{5}}{2} + \\frac{5 t^{3}}{8} - \\frac{t}{16}\\end{matrix}\\right], \\left[\\begin{matrix}t^{8} - \\frac{7 t^{6}}{4} + \\frac{15 t^{4}}{16} - \\frac{5 t^{2}}{32} + \\frac{1}{256}\\end{matrix}\\right], \\left[\\begin{matrix}t^{9} - 2 t^{7} + \\frac{21 t^{5}}{16} - \\frac{5 t^{3}}{16} + \\frac{5 t}{256}\\end{matrix}\\right]\\right\\}$"
          },
          "metadata": {},
          "execution_count": 26
        }
      ]
    },
    {
      "cell_type": "code",
      "source": [
        "e1_ort2 = ortogonalizados_2[0]\n",
        "e2_ort2 = ortogonalizados_2[1]\n",
        "e3_ort2 = ortogonalizados_2[2]\n",
        "e4_ort2 = ortogonalizados_2[3]\n",
        "e5_ort2 = ortogonalizados_2[4]\n",
        "e6_ort2 = ortogonalizados_2[5]\n",
        "e7_ort2 = ortogonalizados_2[6]\n",
        "e8_ort2 = ortogonalizados_2[7]\n",
        "e9_ort2 = ortogonalizados_2[8]\n",
        "e10_ort2 = ortogonalizados_2[9]\n",
        "\n",
        "vectores_ortogonalizados2 = [e1_ort2, e2_ort2, e3_ort2, e4_ort2, e5_ort2, e6_ort2, e7_ort2, e8_ort2, e9_ort2, e10_ort2]\n",
        "\n",
        "ortogonales = True\n",
        "for i, vi in enumerate(vectores_ortogonalizados2):\n",
        "  for j, vj in enumerate(vectores_ortogonalizados2):\n",
        "    if j > i:\n",
        "      resultado = producto_2 (vi, vj)\n",
        "      print(f\"producto interno de e{i+1} y e{j+1}: {resultado}\")\n",
        "      if resultado != 0:\n",
        "        ortogonales = False\n",
        "if ortogonales:\n",
        "  print(\"Esta base de vectores es ortogonal\")\n",
        "else:\n",
        "  print(\"Esta base de vectores no es ortogonal\")\n"
      ],
      "metadata": {
        "colab": {
          "base_uri": "https://localhost:8080/"
        },
        "id": "UkO6UK0QP3Fa",
        "outputId": "baa49942-60b5-43ab-e214-b61654c9474e"
      },
      "execution_count": null,
      "outputs": [
        {
          "output_type": "stream",
          "name": "stdout",
          "text": [
            "producto interno de e1 y e2: 0\n",
            "producto interno de e1 y e3: 0\n",
            "producto interno de e1 y e4: 0\n",
            "producto interno de e1 y e5: 0\n",
            "producto interno de e1 y e6: 0\n",
            "producto interno de e1 y e7: 0\n",
            "producto interno de e1 y e8: 0\n",
            "producto interno de e1 y e9: 0\n",
            "producto interno de e1 y e10: 0\n",
            "producto interno de e2 y e3: 0\n",
            "producto interno de e2 y e4: 0\n",
            "producto interno de e2 y e5: 0\n",
            "producto interno de e2 y e6: 0\n",
            "producto interno de e2 y e7: 0\n",
            "producto interno de e2 y e8: 0\n",
            "producto interno de e2 y e9: 0\n",
            "producto interno de e2 y e10: 0\n",
            "producto interno de e3 y e4: 0\n",
            "producto interno de e3 y e5: 0\n",
            "producto interno de e3 y e6: 0\n",
            "producto interno de e3 y e7: 0\n",
            "producto interno de e3 y e8: 0\n",
            "producto interno de e3 y e9: 0\n",
            "producto interno de e3 y e10: 0\n",
            "producto interno de e4 y e5: 0\n",
            "producto interno de e4 y e6: 0\n",
            "producto interno de e4 y e7: 0\n",
            "producto interno de e4 y e8: 0\n",
            "producto interno de e4 y e9: 0\n",
            "producto interno de e4 y e10: 0\n",
            "producto interno de e5 y e6: 0\n",
            "producto interno de e5 y e7: 0\n",
            "producto interno de e5 y e8: 0\n",
            "producto interno de e5 y e9: 0\n",
            "producto interno de e5 y e10: 0\n",
            "producto interno de e6 y e7: 0\n",
            "producto interno de e6 y e8: 0\n",
            "producto interno de e6 y e9: 0\n",
            "producto interno de e6 y e10: 0\n",
            "producto interno de e7 y e8: 0\n",
            "producto interno de e7 y e9: 0\n",
            "producto interno de e7 y e10: 0\n",
            "producto interno de e8 y e9: 0\n",
            "producto interno de e8 y e10: 0\n",
            "producto interno de e9 y e10: 0\n",
            "Esta base de vectores es ortogonal\n"
          ]
        }
      ]
    },
    {
      "cell_type": "code",
      "source": [
        "# Punto d\n",
        "\n",
        "import sympy as sp\n",
        "import matplotlib.pyplot as plt\n",
        "import numpy as np\n",
        "\n",
        "x = sp.symbols('x')\n",
        "h = sp.sin(3*x) * (1 - x**2)\n",
        "\n",
        "# Función para calcular la expansión en una base dada\n",
        "def expansion_en_base(f, base, grado, prod):\n",
        "    coefs = []\n",
        "    for n in range(grado+1):\n",
        "        bn = base[n]\n",
        "        c = sp.integrate(f*bn, (x, -1, 1)) / sp.integrate(bn*bn, (x, -1, 1))\n",
        "        coefs.append(c)\n",
        "    return coefs\n",
        "\n",
        "# Bases\n",
        "grado_max = 10\n",
        "monomios = [x**n for n in range(grado_max+1)]\n",
        "legendre = [sp.legendre(n, x) for n in range(grado_max+1)]\n",
        "chebyshev = [sp.chebyshevt(n, x) for n in range(grado_max+1)]\n",
        "\n",
        "# Expansiones\n",
        "coefs_mono = expansion_en_base(h, monomios, grado_max, lambda f,g: sp.integrate(f*g, (x, -1, 1)))\n",
        "coefs_legendre = expansion_en_base(h, legendre, grado_max, lambda f,g: sp.integrate(f*g, (x, -1, 1)))\n",
        "coefs_cheb = expansion_en_base(h, chebyshev, grado_max, lambda f,g: sp.integrate(f*g/sp.sqrt(1-x**2), (x, -1, 1)))\n",
        "\n",
        "# Reconstrucciones\n",
        "h_mono = sum(coefs_mono[n]*monomios[n] for n in range(grado_max+1))\n",
        "h_legendre = sum(coefs_legendre[n]*legendre[n] for n in range(grado_max+1))\n",
        "h_cheb = sum(coefs_cheb[n]*chebyshev[n] for n in range(grado_max+1))\n",
        "\n",
        "# Graficar\n",
        "xx = np.linspace(-1,1,400)\n",
        "f_h = sp.lambdify(x, h, \"numpy\")\n",
        "f_mono = sp.lambdify(x, h_mono, \"numpy\")\n",
        "f_legendre = sp.lambdify(x, h_legendre, \"numpy\")\n",
        "f_cheb = sp.lambdify(x, h_cheb, \"numpy\")\n",
        "\n",
        "plt.plot(xx, f_h(xx), label=\"h(x)\")\n",
        "plt.plot(xx, f_mono(xx), \"--\", label=\"Monomios\")\n",
        "plt.plot(xx, f_legendre(xx), \"--\", label=\"Legendre\")\n",
        "plt.plot(xx, f_cheb(xx), \"--\", label=\"Chebyshev\")\n",
        "plt.legend()\n",
        "plt.title(\"Expansiones de h(x)\")\n",
        "plt.show()\n",
        "\n",
        "# Errores\n",
        "error_mono = sp.sqrt(sp.integrate((h-h_mono)**2, (x,-1,1)))\n",
        "error_legendre = sp.sqrt(sp.integrate((h-h_legendre)**2, (x,-1,1)))\n",
        "error_cheb = sp.sqrt(sp.integrate((h-h_cheb)**2, (x,-1,1)))\n",
        "\n",
        "print(\"Error monomios:\", error_mono.evalf())\n",
        "print(\"Error Legendre:\", error_legendre.evalf())\n",
        "print(\"Error Chebyshev:\", error_cheb.evalf())"
      ],
      "metadata": {
        "id": "nVdQqSXPU15K",
        "colab": {
          "base_uri": "https://localhost:8080/",
          "height": 506
        },
        "outputId": "b437bdb4-fff3-4bc2-e31f-eb2742501f57"
      },
      "execution_count": 1,
      "outputs": [
        {
          "output_type": "display_data",
          "data": {
            "text/plain": [
              "<Figure size 640x480 with 1 Axes>"
            ],
            "image/png": "[encoded data removed]"
          },
          "metadata": {}
        },
        {
          "output_type": "stream",
          "name": "stdout",
          "text": [
            "Error monomios: 0.899778773989881\n",
            "Error Legendre: 3.90048428846878e-5\n",
            "Error Chebyshev: 0.421427692508566\n"
          ]
        }
      ]
    }
  ]
}